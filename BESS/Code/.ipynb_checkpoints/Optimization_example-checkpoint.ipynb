{
 "cells": [
  {
   "cell_type": "code",
   "execution_count": 29,
   "id": "2fa6d05b",
   "metadata": {},
   "outputs": [],
   "source": [
    "import matplotlib.pyplot as plt\n",
    "import numpy as np\n",
    "import pandas as pd\n",
    "\n",
    "#import shutil\n",
    "import sys\n",
    "import os.path\n",
    "'''\n",
    "if not shutil.which(\"pyomo\"):\n",
    "    !pip install -q pyomo\n",
    "    assert(shutil.which(\"pyomo\"))\n",
    "\n",
    "if not (shutil.which(\"cbc\") or os.path.isfile(\"cbc\")):\n",
    "    if \"google.colab\" in sys.modules:\n",
    "        !apt-get install -y -qq coinor-cbc\n",
    "    else:\n",
    "        try:\n",
    "            !conda install -c conda-forge coincbc \n",
    "        except:\n",
    "            pass\n",
    "\n",
    "assert(shutil.which(\"cbc\") or os.path.isfile(\"cbc\"))\n",
    "'''\n",
    "from pyomo.environ import *\n"
   ]
  },
  {
   "cell_type": "markdown",
   "id": "54c714b4",
   "metadata": {},
   "source": [
    "## Non-Continuous Objectives"
   ]
  },
  {
   "cell_type": "markdown",
   "id": "9df8edee",
   "metadata": {},
   "source": [
    "model = ConcreteModel()\n",
    "model.x= Var(domain=NonNegativeReals)\n",
    "model.y= Var(domain=NonNegativeReals)\n",
    "model.z= Var(domain=NonNegativeReals)\n",
    "\n",
    "model.profit= Objective(expr= 40*model.x + 30*model.y + 50*model.z, sense=maximize)\n",
    "model.demand = Constraint(expr= model.x <= 40)\n",
    "model.laborA = Constraint(expr= model.x + model.y <=80)\n",
    "model.laborB = Constraint(expr= 2*model.x + model.z <=100)\n",
    "model.laborC = Constraint(expr = model.z <=50)\n",
    "\n",
    "#solve\n",
    "SolverFactory('cbc').solve(model).write()"
   ]
  },
  {
   "cell_type": "markdown",
   "id": "9eefa9b7",
   "metadata": {},
   "source": [
    "print(f\"Profit = ${model.profit()}\")\n",
    "print(f\"X = {model.x()} units\")\n",
    "print(f\"Y = {model.y()} units\")\n",
    "print(f\"Z = {model.z()} units\")"
   ]
  },
  {
   "cell_type": "markdown",
   "id": "0d474a51",
   "metadata": {},
   "source": [
    "M = 100\n",
    "\n",
    "model = ConcreteModel()\n",
    "\n",
    "model.x = Var(domain=NonNegativeReals)\n",
    "\n",
    "model.y = Var(domain=NonNegativeReals)\n",
    "model.y0= Var(bounds=(0, 20))\n",
    "model.y1= Var(domain=NonNegativeReals)\n",
    "model.by= Var(domain=Binary)\n",
    "\n",
    "model.z = Var(domain=NonNegativeReals)\n",
    "model.z0= Var(bounds=(0, 30))\n",
    "model.z1= Var(domain=NonNegativeReals)\n",
    "model.bz= Var(domain=Binary)\n",
    "             \n",
    "model.profit= Objective(sense=maximize, expr = 40*model.x + 30*model.y0 + 50*model.y1 + 600*model.by + 50*model.z0 + 60*model.z1 + 600*model.bz)\n",
    "\n",
    "model.dy= Constraint(expr = model.y == model.y0 + model.y1)\n",
    "model.dz= Constraint(expr = model.z == model.z0 + model.z1)\n",
    "              \n",
    "model.demand = Constraint(expr = model.x <= 40)\n",
    "model.laborA = Constraint(expr = model.x + model.y <= 80)\n",
    "model.laborB = Constraint(expr = 2*model.x + model.z <= 100)\n",
    "model.laborC = Constraint(expr = model.z <= 50)\n",
    "\n",
    "model.bonus_y0 = Constraint(expr = model.y0 >=20 -M*(1-model.by))\n",
    "model.bonus_z0 = Constraint(expr = model.z0 >=30 -M*(1-model.bz))\n",
    "model.bonus_y1 = Constraint(expr = model.y1 <= M*model.by)\n",
    "model.bonus_z1 = Constraint(expr = model.z1 <= M*model.bz)\n",
    "\n",
    "SolverFactory ('cbc').solve(model).write()\n",
    "                        "
   ]
  },
  {
   "cell_type": "code",
   "execution_count": 48,
   "id": "3d9f2fc3",
   "metadata": {},
   "outputs": [
    {
     "name": "stdout",
     "output_type": "stream",
     "text": [
      "Profit = $7500.0\n",
      "X = 0.0 units\n",
      "Y = 20.0 + 60.0 = 80.0 units  1.0\n",
      "Z = 30.0 + 20.0 = 50.0 units  1.0\n"
     ]
    }
   ],
   "source": [
    "print(f\"Profit = ${model.profit()}\")\n",
    "print(f\"X = {model.x()} units\")\n",
    "print(f\"Y = {model.y0()} + {model.y1()} = {model.y()} units  {model.by()}\")\n",
    "print(f\"Z = {model.z0()} + {model.z1()} = {model.z()} units  {model.bz()}\")"
   ]
  },
  {
   "cell_type": "markdown",
   "id": "f27fd145",
   "metadata": {},
   "source": [
    "## Linear blending problem"
   ]
  },
  {
   "cell_type": "markdown",
   "id": "c9353990",
   "metadata": {},
   "source": [
    "data = {\n",
    "    'A': {'abc': 0.045, 'cost': 0.32},\n",
    "    'B': {'abc': 0.037, 'cost': 0.25},\n",
    "    'W': {'abc': 0.000, 'cost': 0.05},\n",
    "}\n",
    "\n",
    "vol=100\n",
    "abv=0.040\n",
    "\n",
    "def beer_blend(vol, abv, data):\n",
    "    C= data.keys()\n",
    "    model = pyomo.ConcreteModel()\n",
    "    model.x=pyomo.Var(C, domain=pyomo.NonNegativeReals)\n",
    "    model.cost=pyomo.Objective(expr=sum(model.x[c]*data[c]['cost'] for c in C))\n",
    "    model.vol=pyomo.Constraint(expr= vol == sum(model.x[c] for c in C))\n",
    "    \n",
    "    solver=pyomo.SolverFactory('cbc')\n",
    "    solver.solve(model)\n",
    "    \n",
    "    print('Optimal Blend')\n",
    "    for c in data.keys():\n",
    "        print(' ', c, ':', model.x[c](), 'gallons')\n",
    "    print()\n",
    "    print('Volume= ', model.vol(), 'gallons')\n",
    "    print('Cost = $', model.cost())\n",
    "beer_blend(vol, abv, data)"
   ]
  },
  {
   "cell_type": "markdown",
   "id": "c65bd4a8",
   "metadata": {},
   "source": [
    "## Simple production models with linear constraint"
   ]
  },
  {
   "cell_type": "markdown",
   "id": "91285543",
   "metadata": {},
   "source": [
    "model= ConcreteModel()\n",
    "\n",
    "#declare decision variables\n",
    "model.x=Var(domain=NonNegativeReals)\n",
    "model.y=Var(domain=NonNegativeReals)\n",
    "\n",
    "#declare objective\n",
    "model.profit = Objective(\n",
    "    expr= 40*model.x +30*model.y,\n",
    "    sense=maximize)\n",
    "\n",
    "#declare constraints\n",
    "model.demand = Constraint(expr=model.x <= 40)\n",
    "model.laborA = Constraint(expr=(model.x + model.y) <= 80)\n",
    "model.laborB = Constraint(expr=(2*model.x + model.y) <= 100)\n",
    "\n",
    "#solve\n",
    "SolverFactory('cbc').solve(model).write()"
   ]
  },
  {
   "cell_type": "markdown",
   "id": "473591f3",
   "metadata": {},
   "source": [
    "model.profit.display()\n",
    "model.x.display()"
   ]
  },
  {
   "cell_type": "markdown",
   "id": "edb756ee",
   "metadata": {},
   "source": [
    "print(f\"Profit = {model.profit()} per week\")\n",
    "print(f\"X = {model.x()} units per week\")\n",
    "print(f\"Y = {model.y()} units per week\")\n",
    "\n",
    "print(\"\\nSolution\")\n",
    "print(f\"x = {model.x()}\")\n",
    "print(f\"y = {model.y()}\")\n",
    "\n",
    "print(\"\\nSensitivity Analysis\")\n",
    "print(f\"y_demand = {-model.dual[model.demand]}\")\n",
    "print(f\"y_laborA = {-model.dual[model.laborA]}\")\n",
    "print(f\"y_laborB = {-model.dual[model.laborB]}\")"
   ]
  },
  {
   "cell_type": "markdown",
   "id": "b374f267",
   "metadata": {},
   "source": [
    "## Warehouse models"
   ]
  },
  {
   "cell_type": "markdown",
   "id": "63871861",
   "metadata": {},
   "source": [
    "fig, ax = plt.subplots(1, 1, figsize=(6, 6))\n",
    "ax.set_aspect('equal')\n",
    "ax.axis([0, 100, 0, 100])\n",
    "ax.set_xlabel('X Production')\n",
    "ax.set_ylabel('Y Production')\n",
    "\n",
    "# Labor A constraint\n",
    "x = np.array([0, 80])\n",
    "ax.plot(x, 80 - x, 'r', lw=2)\n",
    "\n",
    "# Labor B constraint\n",
    "x = np.array([0, 50])\n",
    "ax.plot(x, 100 - 2*x, 'b', lw=2)\n",
    "\n",
    "# Demand constraint\n",
    "ax.plot([40, 40], [0, 100], 'g', lw=2)\n",
    "\n",
    "ax.legend(['Labor A Constraint', 'Labor B Constraint', 'Demand Constraint'])\n",
    "ax.fill_between([0, 80, 100], [80, 0,0 ], [100, 100, 100], color='r', alpha=0.15)\n",
    "ax.fill_between([0, 50, 100], [100, 0, 0], [100, 100, 100], color='b', alpha=0.15)\n",
    "ax.fill_between([40, 100], [0, 0], [100, 100], color='g', alpha=0.15)\n",
    "\n",
    "# Contours of constant profit\n",
    "x = np.array([0, 100])\n",
    "for p in np.linspace(0, 3600, 10):\n",
    "    y = (p - 40*x)/30\n",
    "    ax.plot(x, y, 'y--')\n",
    "    \n",
    "arrowprops = dict(shrink=.1, width=1, headwidth=5)\n",
    "\n",
    "# Optimum\n",
    "ax.plot(20, 60, 'r.', ms=20)\n",
    "ax.annotate('Mixed Product Strategy', xy=(20, 60), xytext=(50, 70), arrowprops=arrowprops)\n",
    "\n",
    "ax.plot(0, 80, 'b.', ms=20)\n",
    "ax.annotate('Y Only', xy=(0, 80), xytext=(20, 90), arrowprops=arrowprops)\n",
    "\n",
    "ax.plot(40, 0, 'b.', ms=20)\n",
    "ax.annotate('X Only', xy=(40, 0), xytext=(70, 20), arrowprops=arrowprops)\n",
    "\n",
    "ax.text(4, 23, 'Increasing Profit')\n",
    "ax.annotate('', xy=(20, 15), xytext=(0,0), arrowprops=arrowprops)\n",
    "\n",
    "fname = 'LPprog01.png'\n",
    "fname = os.path.join('figures', fname) if os.path.exists('figures') else fname\n",
    "plt.savefig(fname, bbox_inches='tight')"
   ]
  },
  {
   "cell_type": "markdown",
   "id": "4b3c9a56",
   "metadata": {},
   "source": [
    "#read data from excel file\n",
    "df=pandas.read_excel('dataset.xlsx', header=0, index_col=0)\n",
    "\n",
    "N=list(df.index.map(str))\n",
    "M=list(df.columns.map(str))\n",
    "d={(r,c):df.at[r,c] for r in N for c in M}\n",
    "P=2"
   ]
  },
  {
   "cell_type": "markdown",
   "id": "b76f3fcd",
   "metadata": {},
   "source": [
    "#create the model \n",
    "model = ConcreteModel(name=\"(WL)\")\n",
    "model.x=Var(N, M, bounds=(0,1))\n",
    "model.y=Var(N, within=Binary)\n"
   ]
  },
  {
   "cell_type": "markdown",
   "id": "8d4246cb",
   "metadata": {},
   "source": [
    "def obj_rule(model):\n",
    "    return sum(d[n,m]*model.x[n,m] for n in M for m in M)\n",
    "model.obj= Objective(rule=obj_rule)"
   ]
  },
  {
   "cell_type": "markdown",
   "id": "b7921fdc",
   "metadata": {},
   "source": [
    "def one_per_cust_rule(model, m):\n",
    "     return sum(model.x[n,m] for n in N)==1\n",
    "model.one_per_cust=Constraint(M, rule=one_per_cust_rule)"
   ]
  },
  {
   "cell_type": "markdown",
   "id": "bd725c82",
   "metadata": {},
   "source": [
    "def warehouse_active_rule(model, n, m):\n",
    "    return model.x[n,m] <= model.y[n]\n",
    "model.warehouse_active=Constraint(N,M, rule=warehouse_active_rule)"
   ]
  },
  {
   "cell_type": "markdown",
   "id": "a1979c85",
   "metadata": {},
   "source": [
    "def num_warehouses_rule(model):\n",
    "    return sum(model.y[n] for n in N) <= P\n",
    "model.num_warehouses=Constraint(rule=num_warehouses_rule)"
   ]
  },
  {
   "cell_type": "markdown",
   "id": "bf4850a4",
   "metadata": {},
   "source": [
    "#solve the model and report the results\n",
    "solver= SolverFactory('glpk')\n",
    "solver.solve(model)\n",
    "model.pprint()"
   ]
  },
  {
   "cell_type": "code",
   "execution_count": null,
   "id": "74bcd586",
   "metadata": {},
   "outputs": [],
   "source": []
  }
 ],
 "metadata": {
  "kernelspec": {
   "display_name": "Python 3 (ipykernel)",
   "language": "python",
   "name": "python3"
  },
  "language_info": {
   "codemirror_mode": {
    "name": "ipython",
    "version": 3
   },
   "file_extension": ".py",
   "mimetype": "text/x-python",
   "name": "python",
   "nbconvert_exporter": "python",
   "pygments_lexer": "ipython3",
   "version": "3.9.2"
  }
 },
 "nbformat": 4,
 "nbformat_minor": 5
}
