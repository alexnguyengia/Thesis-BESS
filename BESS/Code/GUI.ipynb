{
 "cells": [
  {
   "cell_type": "code",
   "execution_count": 7,
   "id": "4ffeb2ae",
   "metadata": {},
   "outputs": [],
   "source": [
    "import PySimpleGUI as sg\n",
    "import matplotlib\n",
    "import matplotlib.pyplot as plt\n",
    "import numpy as np\n",
    "\n",
    "\n",
    "from matplotlib.backends.backend_tkagg import FigureCanvasTkAgg, FigureCanvasAgg\n"
   ]
  },
  {
   "cell_type": "markdown",
   "id": "b07eec08",
   "metadata": {},
   "source": [
    "The layout: Define the window's contents"
   ]
  },
  {
   "cell_type": "code",
   "execution_count": null,
   "id": "617e2d8a",
   "metadata": {},
   "outputs": [],
   "source": [
    "sg.theme('DarkBrown7')\n",
    "layout = [ [sg.Text(\"Give me an input, bitte\")],\n",
    "            [sg.Input(key='-INPUT-')],\n",
    "            [sg.Text(size=(40,1), key ='-OUTPUT-')],\n",
    "             [sg.Button('OK'), sg.Button('Quit')]]"
   ]
  },
  {
   "cell_type": "markdown",
   "id": "0c0a1c8d",
   "metadata": {},
   "source": [
    "Windown definition: Create the window"
   ]
  },
  {
   "cell_type": "code",
   "execution_count": null,
   "id": "607ae4de",
   "metadata": {},
   "outputs": [],
   "source": [
    "window = sg.Window('BESS sizing tool', layout)"
   ]
  },
  {
   "cell_type": "markdown",
   "id": "3a60c0d3",
   "metadata": {},
   "source": [
    "Event loop or window.read call: Display and interact with the Window"
   ]
  },
  {
   "cell_type": "code",
   "execution_count": null,
   "id": "30904095",
   "metadata": {},
   "outputs": [],
   "source": [
    "while True:\n",
    "    event, values = window.read()\n",
    "    if event ==sg.WINDOW_CLOSED or event == 'Quit':\n",
    "        break\n",
    "    window['-OUTPUT-'].update('Hello your '+values['-INPUT-']+ \" noted\")\n",
    "print('Noted', values['-INPUT-'])"
   ]
  },
  {
   "cell_type": "markdown",
   "id": "9d16802a",
   "metadata": {},
   "source": [
    "Close the window: finish up by removing from the screen"
   ]
  },
  {
   "cell_type": "code",
   "execution_count": null,
   "id": "2aa924ca",
   "metadata": {},
   "outputs": [],
   "source": [
    "window.close()"
   ]
  },
  {
   "cell_type": "markdown",
   "id": "8e410906",
   "metadata": {},
   "source": [
    "# VARS CONSTS:\n",
    "_VARS = {'window': False}\n",
    "\n",
    "\n",
    "# Helper method to draw figure from PysimpleGUI Demo:\n",
    "# https://github.com/PySimpleGUI/PySimpleGUI/blob/master/DemoPrograms/Demo_Pyplot_Bar_Chart.py\n",
    "\n",
    "def draw_figure(canvas, figure):\n",
    "    figure_canvas_agg = FigureCanvasTkAgg(figure, canvas)\n",
    "    figure_canvas_agg.draw()\n",
    "    figure_canvas_agg.get_tk_widget().pack(side='top', fill='both', expand=1)\n",
    "    return figure_canvas_agg\n",
    "\n",
    "# \\\\  -------- PYSIMPLEGUI -------- //\n",
    "\n",
    "\n",
    "AppFont = 'Any 16'\n",
    "sg.theme('Darkbrown')\n",
    "\n",
    "layout = [[sg.Canvas(key='figCanvas')],\n",
    "          [sg.Button('Exit', font=AppFont)]]\n",
    "_VARS['window'] = sg.Window('Such Window',\n",
    "                            layout,\n",
    "                            finalize=True,\n",
    "                            resizable=True,\n",
    "                            element_justification=\"right\")\n",
    "\n",
    "# \\\\  -------- PYSIMPLEGUI -------- //\n",
    "\n",
    "\n",
    "# \\\\  -------- PYPLOT -------- //\n",
    "\n",
    "# Make synthetic data\n",
    "dataSize = 1000\n",
    "xData = np.random.randint(100, size=dataSize)\n",
    "yData = np.linspace(0, dataSize, num=dataSize, dtype=int)\n",
    "# make fig and plot\n",
    "fig = plt.figure()\n",
    "plt.plot(xData, yData, '.k')\n",
    "# Instead of plt.show\n",
    "draw_figure(_VARS['window']['figCanvas'].TKCanvas, fig)\n",
    "\n",
    "# \\\\  -------- PYPLOT -------- //\n",
    "\n",
    "# MAIN LOOP\n",
    "while True:\n",
    "    event, values = _VARS['window'].read(timeout=200)\n",
    "    if event == sg.WIN_CLOSED or event == 'Exit':\n",
    "        break\n",
    "_VARS['window'].close()"
   ]
  },
  {
   "cell_type": "code",
   "execution_count": null,
   "id": "a520550d",
   "metadata": {},
   "outputs": [],
   "source": []
  },
  {
   "cell_type": "code",
   "execution_count": 8,
   "id": "3830d97c",
   "metadata": {},
   "outputs": [],
   "source": [
    "def GUIconnect(fig):\n",
    "    # VARS CONSTS:\n",
    "    _VARS = {'window': False}\n",
    "\n",
    "\n",
    "    # Helper method to draw figure from PysimpleGUI Demo:\n",
    "    # https://github.com/PySimpleGUI/PySimpleGUI/blob/master/DemoPrograms/Demo_Pyplot_Bar_Chart.py\n",
    "\n",
    "    def draw_figure(canvas, figure):\n",
    "        figure_canvas_agg = FigureCanvasTkAgg(figure, canvas)\n",
    "        figure_canvas_agg.draw()\n",
    "        figure_canvas_agg.get_tk_widget().pack(side='top', fill='both', expand=1)\n",
    "        return figure_canvas_agg\n",
    "\n",
    "# \\\\  -------- PYSIMPLEGUI -------- //\n",
    "\n",
    "\n",
    "    AppFont = 'Any 16'\n",
    "    sg.theme('Darkbrown')\n",
    "\n",
    "    layout = [[sg.Canvas(key='figCanvas')],\n",
    "          [sg.Button('Exit', font=AppFont)]]\n",
    "    _VARS['window'] = sg.Window('Such Window',\n",
    "                            layout,\n",
    "                            finalize=True,\n",
    "                            resizable=True,\n",
    "                            element_justification=\"right\")\n",
    "\n",
    "# \\\\  -------- PYSIMPLEGUI -------- //\n",
    "\n",
    "\n",
    "# \\\\  -------- PYPLOT -------- //\n",
    "\n",
    "\n",
    "# make fig and plot\n",
    "#fig = plt.figure()\n",
    "#plt.plot(xData, yData, '.k')\n",
    "# Instead of plt.show\n",
    "    draw_figure(_VARS['window']['figCanvas'].TKCanvas, fig)\n",
    "\n",
    "# \\\\  -------- PYPLOT -------- //\n",
    "\n",
    "# MAIN LOOP\n",
    "    while True:\n",
    "        event, values = _VARS['window'].read(timeout=200)\n",
    "        if event == sg.WIN_CLOSED or event == 'Exit':\n",
    "            break\n",
    "    _VARS['window'].close()\n",
    "    return"
   ]
  },
  {
   "cell_type": "code",
   "execution_count": 9,
   "id": "9f941552",
   "metadata": {},
   "outputs": [
    {
     "data": {
      "image/png": "[encoded data removed]",
      "text/plain": [
       "<Figure size 640x480 with 1 Axes>"
      ]
     },
     "metadata": {},
     "output_type": "display_data"
    }
   ],
   "source": [
    "# \\\\  -------- PYPLOT -------- //\n",
    "\n",
    "# Make synthetic data\n",
    "dataSize = 1000\n",
    "xData = np.random.randint(100, size=dataSize)\n",
    "yData = np.linspace(0, dataSize, num=dataSize, dtype=int)\n",
    "# make fig and plot\n",
    "fig = plt.figure()\n",
    "plt.plot(xData, yData, '.k')\n",
    "GUIconnect (fig)"
   ]
  }
 ],
 "metadata": {
  "kernelspec": {
   "display_name": "Python 3 (ipykernel)",
   "language": "python",
   "name": "python3"
  },
  "language_info": {
   "codemirror_mode": {
    "name": "ipython",
    "version": 3
   },
   "file_extension": ".py",
   "mimetype": "text/x-python",
   "name": "python",
   "nbconvert_exporter": "python",
   "pygments_lexer": "ipython3",
   "version": "3.10.9"
  }
 },
 "nbformat": 4,
 "nbformat_minor": 5
}
