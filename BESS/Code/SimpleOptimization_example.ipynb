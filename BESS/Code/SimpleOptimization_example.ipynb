{
 "cells": [
  {
   "cell_type": "code",
   "execution_count": 1,
   "id": "2183e4ca",
   "metadata": {},
   "outputs": [],
   "source": [
    "import numpy as np\n",
    "import pandas as pd\n",
    "import pyomo.environ as pyo\n",
    "import matplotlib\n",
    "import matplotlib.pyplot as plt\n",
    "from pyomo.opt import SolverFactory\n",
    "import time\n"
   ]
  },
  {
   "cell_type": "markdown",
   "id": "28660bb6",
   "metadata": {},
   "source": [
    "## First Pyomo optimization example"
   ]
  },
  {
   "cell_type": "code",
   "execution_count": null,
   "id": "d6cdfa51",
   "metadata": {},
   "outputs": [],
   "source": [
    "# load dataframe with package details\n",
    "data = pd.read_excel('testdataset.xlsx')\n",
    "# extracting the indici, weights and values from the dataframe\n",
    "indici = list(data.index.values)   #var will be input as list\n",
    "weights = data['Weight'].values\n",
    "values = data['Value'].values"
   ]
  },
  {
   "cell_type": "code",
   "execution_count": null,
   "id": "ad7dc29c",
   "metadata": {},
   "outputs": [],
   "source": [
    "model = pyo.ConcreteModel()\n",
    "\n",
    "#define variables\n",
    "model.x= pyo.Var(indici, within = pyo.Binary)\n",
    "x = model.x\n",
    "\n",
    "#define constraint\n",
    "model.weight_constraint = pyo.Constraint(expr=sum([x[i]*weights[i] for i in indici]) <= 600)\n",
    "\n",
    "#define objective, we want to maximize\n",
    "model.objective = pyo.Objective(expr= sum([x[i]*values[i] for i in indici]), sense=pyo.maximize)\n",
    "\n",
    "#print model\n",
    "model.pprint()"
   ]
  },
  {
   "cell_type": "code",
   "execution_count": null,
   "id": "fb08b713",
   "metadata": {},
   "outputs": [],
   "source": [
    "#Solve the problem\n",
    "SolverFactory('cbc').solve(model)\n",
    "\n",
    "print(pyo.value(model.x[i]) for i in indici)\n",
    "solution = [int(pyo.value(model.x[i])) for i in indici]\n",
    "data['solution'] = solution"
   ]
  },
  {
   "cell_type": "markdown",
   "id": "de5d4adb",
   "metadata": {},
   "source": [
    "## Non-Continuous Objectives"
   ]
  },
  {
   "cell_type": "code",
   "execution_count": null,
   "id": "182027d9",
   "metadata": {},
   "outputs": [],
   "source": [
    "model = ConcreteModel()\n",
    "model.x= Var(domain=NonNegativeReals)\n",
    "model.y= Var(domain=NonNegativeReals)\n",
    "model.z= Var(domain=NonNegativeReals)\n",
    "\n",
    "model.profit= Objective(expr= 40*model.x + 30*model.y + 50*model.z, sense=maximize)\n",
    "model.demand = Constraint(expr= model.x <= 40)\n",
    "model.laborA = Constraint(expr= model.x + model.y <=80)\n",
    "model.laborB = Constraint(expr= 2*model.x + model.z <=100)\n",
    "model.laborC = Constraint(expr = model.z <=50)\n",
    "\n",
    "#solve\n",
    "SolverFactory('cbc').solve(model).write()"
   ]
  },
  {
   "cell_type": "code",
   "execution_count": null,
   "id": "fc72905f",
   "metadata": {},
   "outputs": [],
   "source": [
    "print(f\"Profit = ${model.profit()}\")\n",
    "print(f\"X = {model.x()} units\")\n",
    "print(f\"Y = {model.y()} units\")\n",
    "print(f\"Z = {model.z()} units\")"
   ]
  },
  {
   "cell_type": "code",
   "execution_count": null,
   "id": "fc6a149c",
   "metadata": {},
   "outputs": [],
   "source": [
    "M = 100\n",
    "\n",
    "model = ConcreteModel()\n",
    "\n",
    "model.x = Var(domain=NonNegativeReals)\n",
    "\n",
    "model.y = Var(domain=NonNegativeReals)\n",
    "model.y0= Var(bounds=(0, 20))\n",
    "model.y1= Var(domain=NonNegativeReals)\n",
    "model.by= Var(domain=Binary)\n",
    "\n",
    "model.z = Var(domain=NonNegativeReals)\n",
    "model.z0= Var(bounds=(0, 30))\n",
    "model.z1= Var(domain=NonNegativeReals)\n",
    "model.bz= Var(domain=Binary)\n",
    "             \n",
    "model.profit= Objective(sense=maximize, expr = 40*model.x + 30*model.y0 + 50*model.y1 + 600*model.by + 50*model.z0 + 60*model.z1 + 600*model.bz)\n",
    "\n",
    "model.dy= Constraint(expr = model.y == model.y0 + model.y1)\n",
    "model.dz= Constraint(expr = model.z == model.z0 + model.z1)\n",
    "              \n",
    "model.demand = Constraint(expr = model.x <= 40)\n",
    "model.laborA = Constraint(expr = model.x + model.y <= 80)\n",
    "model.laborB = Constraint(expr = 2*model.x + model.z <= 100)\n",
    "model.laborC = Constraint(expr = model.z <= 50)\n",
    "\n",
    "model.bonus_y0 = Constraint(expr = model.y0 >=20 -M*(1-model.by))\n",
    "model.bonus_z0 = Constraint(expr = model.z0 >=30 -M*(1-model.bz))\n",
    "model.bonus_y1 = Constraint(expr = model.y1 <= M*model.by)\n",
    "model.bonus_z1 = Constraint(expr = model.z1 <= M*model.bz)\n",
    "\n",
    "SolverFactory ('cbc').solve(model).write()\n",
    "                        "
   ]
  },
  {
   "cell_type": "code",
   "execution_count": null,
   "id": "cb9c0da1",
   "metadata": {},
   "outputs": [],
   "source": [
    "print(f\"Profit = ${model.profit()}\")\n",
    "print(f\"X = {model.x()} units\")\n",
    "print(f\"Y = {model.y0()} + {model.y1()} = {model.y()} units  {model.by()}\")\n",
    "print(f\"Z = {model.z0()} + {model.z1()} = {model.z()} units  {model.bz()}\")"
   ]
  },
  {
   "cell_type": "markdown",
   "id": "d945ab0a",
   "metadata": {},
   "source": [
    "## Simple production models with linear constraint"
   ]
  },
  {
   "cell_type": "code",
   "execution_count": null,
   "id": "c2b42925",
   "metadata": {},
   "outputs": [],
   "source": [
    "model= ConcreteModel()\n",
    "\n",
    "#declare decision variables\n",
    "model.x=Var(domain=NonNegativeReals)\n",
    "model.y=Var(domain=NonNegativeReals)\n",
    "\n",
    "#declare objective\n",
    "model.profit = Objective(\n",
    "    expr= 40*model.x +30*model.y,\n",
    "    sense=maximize)\n",
    "\n",
    "#declare constraints\n",
    "model.demand = Constraint(expr=model.x <= 40)\n",
    "model.laborA = Constraint(expr=(model.x + model.y) <= 80)\n",
    "model.laborB = Constraint(expr=(2*model.x + model.y) <= 100)\n",
    "\n",
    "#solve\n",
    "SolverFactory('cbc').solve(model).write()"
   ]
  },
  {
   "cell_type": "code",
   "execution_count": null,
   "id": "3be6ad7a",
   "metadata": {},
   "outputs": [],
   "source": [
    "model.profit.display()\n",
    "model.x.display()"
   ]
  },
  {
   "cell_type": "code",
   "execution_count": null,
   "id": "7ba1e67e",
   "metadata": {},
   "outputs": [],
   "source": [
    "print(f\"Profit = {model.profit()} per week\")\n",
    "print(f\"X = {model.x()} units per week\")\n",
    "print(f\"Y = {model.y()} units per week\")\n",
    "\n",
    "print(\"\\nSolution\")\n",
    "print(f\"x = {model.x()}\")\n",
    "print(f\"y = {model.y()}\")\n",
    "\n",
    "print(\"\\nSensitivity Analysis\")\n",
    "print(f\"y_demand = {-model.dual[model.demand]}\")\n",
    "print(f\"y_laborA = {-model.dual[model.laborA]}\")\n",
    "print(f\"y_laborB = {-model.dual[model.laborB]}\")"
   ]
  },
  {
   "cell_type": "code",
   "execution_count": null,
   "id": "74bcd586",
   "metadata": {},
   "outputs": [],
   "source": []
  }
 ],
 "metadata": {
  "kernelspec": {
   "display_name": "Python 3 (ipykernel)",
   "language": "python",
   "name": "python3"
  },
  "language_info": {
   "codemirror_mode": {
    "name": "ipython",
    "version": 3
   },
   "file_extension": ".py",
   "mimetype": "text/x-python",
   "name": "python",
   "nbconvert_exporter": "python",
   "pygments_lexer": "ipython3",
   "version": "3.9.2"
  }
 },
 "nbformat": 4,
 "nbformat_minor": 5
}
