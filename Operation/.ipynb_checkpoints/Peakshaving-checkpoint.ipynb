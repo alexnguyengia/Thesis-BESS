{
 "cells": [
  {
   "cell_type": "code",
   "execution_count": 2,
   "id": "06843ee0-a046-44b8-bb65-e269e4a157a5",
   "metadata": {},
   "outputs": [],
   "source": [
    "import linopy\n",
    "import xarray as xr\n",
    "import numpy as np\n",
    "import pandas as pd\n",
    "import matplotlib\n",
    "import matplotlib.pyplot as plt\n",
    "import time"
   ]
  },
  {
   "cell_type": "markdown",
   "id": "f41168d9-9f3b-4a10-aa81-112ae068dc1a",
   "metadata": {},
   "source": [
    "## First battery arbitrage example"
   ]
  },
  {
   "cell_type": "markdown",
   "id": "fdebe36d-50e7-4816-990a-232b17f5644c",
   "metadata": {},
   "source": [
    "- Read the load file\n",
    "- Assign a cost per kW for battery and time-varying cost for load\n",
    "- Minimize the cost, record the battery power.\n",
    "- Plot"
   ]
  },
  {
   "cell_type": "markdown",
   "id": "507d1176-bca1-4f07-8837-b286b93e6e89",
   "metadata": {},
   "source": [
    "### Loading load profile"
   ]
  },
  {
   "cell_type": "code",
   "execution_count": 10,
   "id": "15e4dab0-e083-47c9-89ae-8a55d6eaa7f8",
   "metadata": {},
   "outputs": [],
   "source": [
    "load = pd.read_csv('Test_load.csv', delimiter = ';')[3:] #assign the csv file to the dataframe and disregard the first 3 row\n",
    "load = load.reset_index(drop=True)                              #re-assign the index value\n",
    "load.columns = ['Date','Power']                          #rename the columns\n",
    "load[\"Date\"]=pd.date_range(\"01/01/2022 00:00\", periods=8760, freq='h') #to put the values in an according date time\n",
    "load[\"Power\"]=pd.to_numeric(load.Power)                  #convert the power values into float\n",
    "load = load.fillna(0)\n",
    "\n",
    "testmonth_load =testmonth_load.loc[(load['Date'].dt.month==1)] #select January as test month\n",
    "\n",
    "index = list(testmonth_load.index.values)    #assign a list for variable, each index is a variable namepd.renameload.columns[1] = \"Load\"\n",
    "load_value = testmonth_load['Power'].values\n",
    "\n",
    "\n",
    "    "
   ]
  },
  {
   "cell_type": "markdown",
   "id": "1ab15f56-91e8-4e5d-8b20-e1d40a69fc2c",
   "metadata": {},
   "source": [
    "### Modeling Cost"
   ]
  },
  {
   "cell_type": "code",
   "execution_count": null,
   "id": "f909c223-8f7a-419a-9da6-c9e2d59ba741",
   "metadata": {},
   "outputs": [],
   "source": [
    "\n",
    "#-------Adding a time varying tariff-----------\n",
    "load['Tariff'] = [0.14 if (12 <= time.hour <=18)   else\n",
    "                     0.1 if ( (8<= time.hour <= 12) | (18 <= time.hour <= 22))  else\n",
    "                     0.08 for time in load['Data']]\n",
    "#-------for simplicity only; in the future the tariff should be mapped from another dataframe\n",
    "                             \n",
    "BattCost = 314.2                          #per KWH\n",
    "InverterCost = 65.6                       #per KW\n",
    "\n"
   ]
  },
  {
   "cell_type": "markdown",
   "id": "ad13c7de-daae-4ba2-aad9-ed62f7832707",
   "metadata": {},
   "source": [
    "### Optimization model"
   ]
  },
  {
   "cell_type": "code",
   "execution_count": null,
   "id": "8860a8b6-81af-4fcd-9b6d-7c5771e0a24b",
   "metadata": {},
   "outputs": [],
   "source": [
    "#--------Linopy implementation---------------------\n",
    "model = linopy.Model()\n",
    "#set the bounds for battery power\n",
    "ub = max(load['Power'])\n",
    "lb = -ub\n",
    "#set variables\n",
    "Pbatt = model.addd_variables(lower=lb, upper= ub, coord=index, name=\"Battery dispatch power\" ) #linopy\n",
    "\n",
    "#-------------------------------------------------\n",
    "\n",
    "model.Pbatt = pyo.Var(index, bounds= (lb, ub))\n",
    "model.Pmax = pyo.Var(bounds= (0,ub)) \n",
    "model.Qmax = pyo.Var()\n",
    "#set objective\n",
    "cost = load['Tariff'].values\n",
    "model.objective = pyo.Objective(expr = sum((load_value[i]+model.Pbatt[i])*cost[i] for i in index) + (BattCost*model.Qmax + InverterCost*model.Pmax)/(20*12), sense= pyo.minimize)\n",
    "\n",
    "#set constraints\n",
    "model.Constraint = pyo.ConstraintList()\n",
    "for i in index:\n",
    "    print(load_value[i])\n",
    "    model.Constraint.add( expr = model.Pbatt[i] - load_value[i] <= 0) #load constraint\n",
    "    model.Constraint.add( expr = model.Pbatt[i] - model.Pmax  <= 0 ) #Pmax constraint\n",
    "    model.Constraint.add( expr = model.Pbatt[i] + model.Pmax  >= 0 )#Pmin constraint\n",
    "    model.Constraint.add( expr = model.Pbatt[i] + load_value[i] <= ub )#Total load constraint\n",
    "\n",
    " #   model.Constraint.add( expr = model.Pbatt[i] - model.Qmax <= 0 )#Qmax constraint\n",
    "#  model.Constraint.add( expr = model.Pbatt[i] + model.Qmax >= 0 )#Qmax constraint\n",
    "\n",
    "    model.Constraint.add( expr = model.Qmax + sum([model.Pbatt[j]*1 for j in range(i)]) - model.Qmax <= 0 )#Qmax constraint\n",
    "    model.Constraint.add( expr = model.Qmax + sum([model.Pbatt[j]*1 for j in range(i)]) - 0.2*model.Qmax >= 0) #Qmin constraint\n",
    "    \n",
    "#print the model\n",
    "#model.pprint()"
   ]
  }
 ],
 "metadata": {
  "kernelspec": {
   "display_name": "Python 3 (ipykernel)",
   "language": "python",
   "name": "python3"
  },
  "language_info": {
   "codemirror_mode": {
    "name": "ipython",
    "version": 3
   },
   "file_extension": ".py",
   "mimetype": "text/x-python",
   "name": "python",
   "nbconvert_exporter": "python",
   "pygments_lexer": "ipython3",
   "version": "3.11.2"
  }
 },
 "nbformat": 4,
 "nbformat_minor": 5
}
